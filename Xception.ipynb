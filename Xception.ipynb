{
 "cells": [
  {
   "cell_type": "code",
   "execution_count": null,
   "metadata": {},
   "outputs": [],
   "source": [
    "import glob\n",
    "import os\n",
    "import cv2\n",
    "import numpy as np\n",
    "import matplotlib.pyplot as plt\n",
    "from sklearn.utils import shuffle\n",
    "import tensorflow as tf \n",
    "from tqdm import tqdm\n",
    "from tensorflow.keras import optimizers\n",
    "\n",
    "import sklearn\n",
    "import numpy as np\n",
    "import seaborn as sn\n",
    "from sklearn.metrics import confusion_matrix"
   ]
  },
  {
   "cell_type": "code",
   "execution_count": null,
   "metadata": {},
   "outputs": [],
   "source": [
    "def get_accuracy(labs, pred_labs):\n",
    "    tp = 0\n",
    "    for i in range(len(labs)):\n",
    "        if labs[i]==pred_labs[i]:\n",
    "            tp = tp+1\n",
    "            \n",
    "    return tp*(100/len(labs))"
   ]
  },
  {
   "cell_type": "code",
   "execution_count": null,
   "metadata": {},
   "outputs": [],
   "source": [
    "path = r'D:\\Breast cancer material\\MIAS_Preprocess\\mias_preprocess_Part1\\original\\train'\n",
    "folders=glob.glob(os.path.join(path,'*'))\n",
    "label=[]\n",
    "i=0\n",
    "imgs=[]\n",
    "for fol in tqdm(folders):\n",
    "    files=glob.glob(os.path.join(fol,'*'))\n",
    "    for image in files:\n",
    "        im=cv2.imread(image)\n",
    "        im= cv2.resize(im,(160,160))/255\n",
    "        imgs.append(im)\n",
    "        label.append(i)\n",
    "    i=i+1\n",
    "    \n",
    "imgs=np.array(imgs)\n",
    "label=np.array(label)\n",
    "imgs,label=shuffle(imgs,label)"
   ]
  },
  {
   "cell_type": "code",
   "execution_count": null,
   "metadata": {},
   "outputs": [],
   "source": [
    "labs = np.zeros((label.size, label.max()+1))\n",
    "labs[np.arange(label.size),label] = 1"
   ]
  },
  {
   "cell_type": "code",
   "execution_count": null,
   "metadata": {},
   "outputs": [],
   "source": [
    "img_val = imgs[100:110, :, :,:]\n",
    "labs_val = labs[100:110,:]\n",
    "img_val.shape, labs_val.shape"
   ]
  },
  {
   "cell_type": "code",
   "execution_count": null,
   "metadata": {},
   "outputs": [],
   "source": [
    "b = np.zeros((label.size, label.max()+1))\n",
    "b[np.arange(label.size),label] = 1"
   ]
  },
  {
   "cell_type": "code",
   "execution_count": null,
   "metadata": {},
   "outputs": [],
   "source": [
    "path = r'D:\\Breast cancer material\\MIAS_Preprocess\\mias_preprocess_Part1\\original\\test'\n",
    "folders=glob.glob(os.path.join(path,'*'))\n",
    "label_test=[]\n",
    "i=0\n",
    "imgs_test=[]\n",
    "for fol in tqdm(folders):\n",
    "    files=glob.glob(os.path.join(fol,'*'))\n",
    "    for image in tqdm(files):\n",
    "        im=cv2.imread(image)\n",
    "        im= cv2.resize(im,(160,160))/255\n",
    "        imgs_test.append(im)\n",
    "        label_test.append(i)\n",
    "    i=i+1\n",
    "    \n",
    "imgs_test=np.array(imgs_test)\n",
    "label_test=np.array(label_test)\n",
    "imgs_test,label_test=shuffle(imgs_test,label_test)"
   ]
  },
  {
   "cell_type": "code",
   "execution_count": null,
   "metadata": {},
   "outputs": [],
   "source": [
    "b = np.zeros((label.size, label.max()+1))\n",
    "b[np.arange(label.size),label] = 1\n",
    "b[100]"
   ]
  },
  {
   "cell_type": "code",
   "execution_count": null,
   "metadata": {},
   "outputs": [],
   "source": [
    "model = tf.keras.applications.Xception(\n",
    "    include_top=True,\n",
    "    weights=None,\n",
    "    input_tensor=None,\n",
    "    input_shape=(160,160, 3),\n",
    "    pooling=None,\n",
    "    classes=3\n",
    "#     classifier_activation=\"softmax\"\n",
    ")\n",
    "model.summary()"
   ]
  },
  {
   "cell_type": "code",
   "execution_count": null,
   "metadata": {},
   "outputs": [],
   "source": [
    "from tensorflow.keras import optimizers\n",
    "#optimizer=optimizers.SGD(lr=0.01, momentum=0.9)\n",
    "# Let's train the model using RMSprop\n",
    "model.compile(loss='categorical_crossentropy',\n",
    "              optimizer=optimizers.RMSprop(lr=1e-3),\n",
    "#               optimizer=optimizer,\n",
    "              metrics=['accuracy'])"
   ]
  },
  {
   "cell_type": "code",
   "execution_count": null,
   "metadata": {},
   "outputs": [],
   "source": [
    "batch_size = 9"
   ]
  },
  {
   "cell_type": "code",
   "execution_count": null,
   "metadata": {},
   "outputs": [],
   "source": [
    "import tensorflow.keras.callbacks as callbacks\n",
    "model_path = 'Xception_New.h5'\n",
    "model_check_points = callbacks.ModelCheckpoint(filepath= model_path, monitor='val_loss', verbose=0, save_best_only=True,\n",
    "                                                save_weights_only=False, mode='auto', save_freq='epoch',\n",
    "                                                options=None)\n",
    "ES = callbacks.EarlyStopping(\n",
    "    monitor='val_loss', min_delta=0, patience=5, verbose=0,\n",
    "    mode='auto', baseline=None, restore_best_weights=False )\n",
    "monitor = 'categorical_accuracy'\n",
    "# reduce_lr = callbacks.ReduceLROnPlateau(monitor=monitor, patience=3)"
   ]
  },
  {
   "cell_type": "code",
   "execution_count": null,
   "metadata": {},
   "outputs": [],
   "source": [
    "#step_per_epoch = b.shape[0]/8\n",
    "tf.config.experimental_run_functions_eagerly(True)\n",
    "tf.config.run_functions_eagerly(True)\n",
    "history =  model.fit(imgs,b, epochs=15, batch_size = batch_size,\n",
    "#                      validation_split=0.05,\n",
    "                     validation_data=(img_val, labs_val),\n",
    "                    callbacks = [model_check_points])"
   ]
  },
  {
   "cell_type": "code",
   "execution_count": null,
   "metadata": {},
   "outputs": [],
   "source": [
    "imgs,label\n",
    "#imgs_test,label_test\n",
    "model.load_weights('Xception_New.h5')\n",
    "pred_labs = []\n",
    "for i in range(len(label_test)):\n",
    "    img =  imgs_test[i,:, :, :]\n",
    "    img = np.expand_dims(img, axis=0)\n",
    "    pred = model.predict(img)\n",
    "    pred = pred.argmax(axis=1)\n",
    "    pred_labs.append(pred[0])\n",
    "    \n",
    "pred_labs=np.array(pred_labs)"
   ]
  },
  {
   "cell_type": "code",
   "execution_count": null,
   "metadata": {},
   "outputs": [],
   "source": [
    "pred_labs = pred_labs+10\n",
    "pred_labs = np.where(pred_labs==12,0, pred_labs)\n",
    "pred_labs = np.where(pred_labs==11,2, pred_labs)\n",
    "pred_labs = np.where(pred_labs==10,1, pred_labs)\n",
    "\n",
    "label = label_test+10\n",
    "label = np.where(label==12,0, label)\n",
    "label = np.where(label==11,2, label)\n",
    "label = np.where(label==10,1, label)\n",
    "\n",
    "print('Accuracy is: ', get_accuracy(label, pred_labs))"
   ]
  },
  {
   "cell_type": "code",
   "execution_count": null,
   "metadata": {},
   "outputs": [],
   "source": [
    "array = sklearn.metrics.confusion_matrix(pred_labs, label)\n",
    "array = array / array.astype(np.float).sum(axis=0)\n",
    "ax = sn.heatmap(array,annot=True,cmap=\"YlGnBu\", linewidth=0.5,fmt=\".1%\",xticklabels=['Normal','Benign','Malignant'], yticklabels=['Normal','Benign','Malignant'])\n",
    "\n",
    "figure = ax.get_figure()\n",
    "figure.savefig('Xception.png', dpi=1200)"
   ]
  }
 ],
 "metadata": {
  "kernelspec": {
   "display_name": "Python 3",
   "language": "python",
   "name": "python3"
  },
  "language_info": {
   "codemirror_mode": {
    "name": "ipython",
    "version": 3
   },
   "file_extension": ".py",
   "mimetype": "text/x-python",
   "name": "python",
   "nbconvert_exporter": "python",
   "pygments_lexer": "ipython3",
   "version": "3.8.5"
  }
 },
 "nbformat": 4,
 "nbformat_minor": 5
}

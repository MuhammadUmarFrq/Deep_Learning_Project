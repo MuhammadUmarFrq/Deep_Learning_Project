{
 "cells": [
  {
   "cell_type": "code",
   "execution_count": null,
   "metadata": {},
   "outputs": [],
   "source": [
    "import glob\n",
    "import os\n",
    "import cv2\n",
    "import numpy as np\n",
    "import matplotlib.pyplot as plt\n",
    "from sklearn.utils import shuffle\n",
    "import tensorflow as tf "
   ]
  },
  {
   "cell_type": "code",
   "execution_count": null,
   "metadata": {},
   "outputs": [],
   "source": [
    "path = r'D:\\Breast cancer material\\MIAS_Preprocess\\mias_preprocess_Part1\\original'\n",
    "folders=glob.glob(os.path.join(path,'*'))\n",
    "label=[]\n",
    "i=0\n",
    "imgs=[]\n",
    "for fol in folders:\n",
    "    files=glob.glob(os.path.join(fol,'*'))\n",
    "    for image in files:\n",
    "        im=cv2.imread(image)\n",
    "        im= cv2.resize(im,(160,160))\n",
    "        imgs.append(im)\n",
    "        label.append(i)\n",
    "    i=i+1\n",
    "    \n",
    "imgs=np.array(imgs)\n",
    "label=np.array(label)\n",
    "imgs,label=shuffle(imgs,label)"
   ]
  },
  {
   "cell_type": "code",
   "execution_count": null,
   "metadata": {},
   "outputs": [],
   "source": [
    "model = tf.keras.applications.EfficientNetB0(\n",
    "    include_top=True,\n",
    "    weights=None,\n",
    "    input_tensor=None,\n",
    "    input_shape=(160,160, 3),\n",
    "    pooling=None,\n",
    "    classes=3,\n",
    "    classifier_activation=\"softmax\"\n",
    ")\n",
    "model.summary()"
   ]
  },
  {
   "cell_type": "code",
   "execution_count": null,
   "metadata": {},
   "outputs": [],
   "source": [
    "from tensorflow.keras import optimizers\n",
    "optimizer=optimizers.SGD(lr=0.0001, momentum=0.9)\n",
    "# Let's train the model using RMSprop\n",
    "model.compile(loss='categorical_crossentropy',\n",
    "              # optimizer=optimizers.RMSprop(lr=1e-4),\n",
    "              optimizer=optimizer,\n",
    "              metrics=['accuracy'])"
   ]
  },
  {
   "cell_type": "code",
   "execution_count": null,
   "metadata": {},
   "outputs": [],
   "source": [
    "batch_size = 8\n",
    "step_per_epoch = b.shape[0]/8"
   ]
  },
  {
   "cell_type": "code",
   "execution_count": null,
   "metadata": {},
   "outputs": [],
   "source": [
    "import tensorflow.keras.callbacks as callbacks\n",
    "model_path = 'effNet_B0.h5'\n",
    "model_check_points = callbacks.ModelCheckpoint(filepath= model_path, monitor='val_loss', verbose=0, save_best_only=True,\n",
    "                                                save_weights_only=False, mode='auto', save_freq='epoch',\n",
    "                                                options=None)\n",
    "ES = callbacks.EarlyStopping(\n",
    "    monitor='val_loss', min_delta=0, patience=5, verbose=0,\n",
    "    mode='auto', baseline=None, restore_best_weights=False )\n",
    "monitor = 'categorical_accuracy'\n",
    "# reduce_lr = callbacks.ReduceLROnPlateau(monitor=monitor, patience=3)\n"
   ]
  },
  {
   "cell_type": "code",
   "execution_count": null,
   "metadata": {
    "scrolled": true
   },
   "outputs": [],
   "source": [
    "tf.config.experimental_run_functions_eagerly(True)\n",
    "tf.config.run_functions_eagerly(True)\n",
    "history =  model.fit(imgs,b, epochs=200, batch_size = batch_size, validation_split=0.05, \n",
    "                    callbacks = [model_check_points])"
   ]
  },
  {
   "cell_type": "code",
   "execution_count": null,
   "metadata": {},
   "outputs": [],
   "source": [
    "preds = model.predict(imgs)"
   ]
  },
  {
   "cell_type": "code",
   "execution_count": null,
   "metadata": {},
   "outputs": [],
   "source": [
    "b = np.zeros((label.size, label.max()+1))\n",
    "b[np.arange(label.size),label] = 1"
   ]
  }
 ],
 "metadata": {
  "kernelspec": {
   "display_name": "Python 3",
   "language": "python",
   "name": "python3"
  },
  "language_info": {
   "codemirror_mode": {
    "name": "ipython",
    "version": 3
   },
   "file_extension": ".py",
   "mimetype": "text/x-python",
   "name": "python",
   "nbconvert_exporter": "python",
   "pygments_lexer": "ipython3",
   "version": "3.8.5"
  }
 },
 "nbformat": 4,
 "nbformat_minor": 5
}
